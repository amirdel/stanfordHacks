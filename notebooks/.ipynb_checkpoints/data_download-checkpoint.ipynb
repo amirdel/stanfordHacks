{
 "cells": [
  {
   "cell_type": "markdown",
   "metadata": {},
   "source": [
    "Download data from https://www.cs.toronto.edu/~vmnih/data/"
   ]
  },
  {
   "cell_type": "code",
   "execution_count": null,
   "metadata": {
    "collapsed": true
   },
   "outputs": [],
   "source": [
    "import mechanize\n",
    "from time import sleep\n",
    "#Make a Browser (think of this as chrome or firefox etc)\n",
    "br = mechanize.Browser()\n",
    "\n",
    "# Open your site\n",
    "br.open('http://pypi.python.org/pypi/xlwt')\n",
    "\n",
    "f=open(\"source.html\",\"w\")\n",
    "f.write(br.response().read()) #can be helpful for debugging maybe\n",
    "\n",
    "filetypes=[\".zip\",\".exe\",\".tar.gz\"] #you will need to do some kind of pattern matching on your files\n",
    "myfiles=[]\n",
    "for l in br.links(): #you can also iterate through br.forms() to print forms on the page!\n",
    "    for t in filetypes:\n",
    "        if t in str(l): #check if this link has the file extension we want (you may choose to use reg expressions or something)\n",
    "            myfiles.append(l)\n",
    "\n",
    "\n",
    "def downloadlink(l):\n",
    "    f=open(l.text,\"w\") #perhaps you should open in a better way & ensure that file doesn't already exist.\n",
    "    br.click_link(l)\n",
    "    f.write(br.response().read())\n",
    "    print l.text,\" has been downloaded\"\n",
    "    #br.back()\n",
    "\n",
    "for l in myfiles:\n",
    "    sleep(1) #throttle so you dont hammer the site\n",
    "    downloadlink(l)"
   ]
  }
 ],
 "metadata": {
  "kernelspec": {
   "display_name": "Python 2",
   "language": "python",
   "name": "python2"
  },
  "language_info": {
   "codemirror_mode": {
    "name": "ipython",
    "version": 2
   },
   "file_extension": ".py",
   "mimetype": "text/x-python",
   "name": "python",
   "nbconvert_exporter": "python",
   "pygments_lexer": "ipython2",
   "version": "2.7.14"
  }
 },
 "nbformat": 4,
 "nbformat_minor": 2
}
