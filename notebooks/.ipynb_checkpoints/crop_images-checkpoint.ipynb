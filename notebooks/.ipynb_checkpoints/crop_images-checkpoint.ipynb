{
 "cells": [
  {
   "cell_type": "code",
   "execution_count": 1,
   "metadata": {},
   "outputs": [
    {
     "ename": "ImportError",
     "evalue": "No module named rasterio",
     "output_type": "error",
     "traceback": [
      "\u001b[0;31m---------------------------------------------------------------------------\u001b[0m",
      "\u001b[0;31mImportError\u001b[0m                               Traceback (most recent call last)",
      "\u001b[0;32m<ipython-input-1-04e9be1ed89c>\u001b[0m in \u001b[0;36m<module>\u001b[0;34m()\u001b[0m\n\u001b[1;32m      3\u001b[0m \u001b[0;32mimport\u001b[0m \u001b[0mmatplotlib\u001b[0m\u001b[0;34m.\u001b[0m\u001b[0mpyplot\u001b[0m \u001b[0;32mas\u001b[0m \u001b[0mplt\u001b[0m\u001b[0;34m\u001b[0m\u001b[0m\n\u001b[1;32m      4\u001b[0m \u001b[0;32mimport\u001b[0m \u001b[0mos\u001b[0m \u001b[0;32mas\u001b[0m \u001b[0mos\u001b[0m\u001b[0;34m\u001b[0m\u001b[0m\n\u001b[0;32m----> 5\u001b[0;31m \u001b[0;32mimport\u001b[0m \u001b[0mrasterio\u001b[0m\u001b[0;34m\u001b[0m\u001b[0m\n\u001b[0m\u001b[1;32m      6\u001b[0m \u001b[0;31m# from PIL import Image\u001b[0m\u001b[0;34m\u001b[0m\u001b[0;34m\u001b[0m\u001b[0m\n\u001b[1;32m      7\u001b[0m \u001b[0;32mfrom\u001b[0m \u001b[0msklearn\u001b[0m\u001b[0;34m.\u001b[0m\u001b[0mfeature_extraction\u001b[0m \u001b[0;32mimport\u001b[0m \u001b[0mimage\u001b[0m\u001b[0;34m\u001b[0m\u001b[0m\n",
      "\u001b[0;31mImportError\u001b[0m: No module named rasterio"
     ]
    }
   ],
   "source": [
    "%matplotlib inline\n",
    "import numpy as np\n",
    "import matplotlib.pyplot as plt\n",
    "import os as os\n",
    "import rasterio\n",
    "# from PIL import Image\n",
    "from sklearn.feature_extraction import image"
   ]
  },
  {
   "cell_type": "code",
   "execution_count": null,
   "metadata": {},
   "outputs": [],
   "source": [
    "# load input and output images\n",
    "input_path = 'buildings/input.tiff'\n",
    "# input_path = '/home/amirhossein/projects/stanfordHacks/notebooks/buildings/input.tiff'\n",
    "# inp = np.load(input_path)\n",
    "with rasterio.open(input_path) as src:\n",
    "    inp_all = src.read()\n",
    "out_path = 'buildings/output.tif'\n",
    "with rasterio.open(out_path) as src:\n",
    "    out = src.read()\n",
    "fig, axes  = plt.subplots(1,2, figsize=(10,5))\n",
    "axes[0].imshow(inp_all[2])\n",
    "axes[1].imshow(out[0])"
   ]
  },
  {
   "cell_type": "code",
   "execution_count": null,
   "metadata": {},
   "outputs": [],
   "source": [
    "def make_"
   ]
  },
  {
   "cell_type": "code",
   "execution_count": null,
   "metadata": {},
   "outputs": [],
   "source": [
    "# split them into smaller images \n",
    "# get the correct channels \n",
    "out0 = out[0]\n",
    "in0 = inp_all[0]\n",
    "img_edge_length = out0.shape[0]\n",
    "# edge size of the patch\n",
    "patch_edge_length = 400\n",
    "# number of patches to extract\n",
    "max_patches = 12\n",
    "\n",
    "out_patches = image.extract_patches_2d(out0, (patch_edge_length, patch_edge_length), \n",
    "                                       max_patches=max_patches, random_state=1)\n",
    "in_patches = image.extract_patches_2d(in0, (patch_edge_length, patch_edge_length), \n",
    "                                       max_patches=max_patches, random_state=1)"
   ]
  },
  {
   "cell_type": "code",
   "execution_count": null,
   "metadata": {},
   "outputs": [],
   "source": [
    "for i in range(4):\n",
    "    fig, ax  = plt.subplots(1,1, figsize=(10,10))\n",
    "    ax.imshow(in_patches[i])\n",
    "    ax.imshow(out_patches[i], alpha=0.5)"
   ]
  },
  {
   "cell_type": "code",
   "execution_count": null,
   "metadata": {},
   "outputs": [],
   "source": []
  }
 ],
 "metadata": {
  "kernelspec": {
   "display_name": "Python 2",
   "language": "python",
   "name": "python2"
  },
  "language_info": {
   "codemirror_mode": {
    "name": "ipython",
    "version": 2
   },
   "file_extension": ".py",
   "mimetype": "text/x-python",
   "name": "python",
   "nbconvert_exporter": "python",
   "pygments_lexer": "ipython2",
   "version": "2.7.12"
  }
 },
 "nbformat": 4,
 "nbformat_minor": 2
}
