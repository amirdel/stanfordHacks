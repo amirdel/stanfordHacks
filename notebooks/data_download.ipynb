{
 "cells": [
  {
   "cell_type": "markdown",
   "metadata": {},
   "source": [
    "Download data from https://www.cs.toronto.edu/~vmnih/data/"
   ]
  },
  {
   "cell_type": "code",
   "execution_count": null,
   "metadata": {},
   "outputs": [],
   "source": [
    "import mechanize\n",
    "from time import sleep\n",
    "import os"
   ]
  },
  {
   "cell_type": "code",
   "execution_count": null,
   "metadata": {},
   "outputs": [],
   "source": [
    "data_dir = '/root/data/hackathon/building_massa_dataset/'"
   ]
  },
  {
   "cell_type": "markdown",
   "metadata": {},
   "source": [
    "# download images"
   ]
  },
  {
   "cell_type": "code",
   "execution_count": null,
   "metadata": {},
   "outputs": [],
   "source": [
    "train = 'https://www.cs.toronto.edu/~vmnih/data/mass_buildings/train/sat/index.html'\n",
    "val = 'https://www.cs.toronto.edu/~vmnih/data/mass_buildings/valid/sat/index.html'\n",
    "test = 'https://www.cs.toronto.edu/~vmnih/data/mass_buildings/test/sat/index.html'"
   ]
  },
  {
   "cell_type": "code",
   "execution_count": null,
   "metadata": {},
   "outputs": [],
   "source": [
    "urls = [test]"
   ]
  },
  {
   "cell_type": "code",
   "execution_count": null,
   "metadata": {
    "scrolled": true
   },
   "outputs": [],
   "source": [
    "for url in urls:\n",
    "    #Make a Browser (think of this as chrome or firefox etc)\n",
    "    br = mechanize.Browser()\n",
    "\n",
    "    # Open your site\n",
    "    br.open(url)\n",
    "\n",
    "    f=open(\"source.html\",\"w\")\n",
    "    f.write(br.response().read()) #can be helpful for debugging maybe\n",
    "\n",
    "    filetypes=[\".tiff\"] #you will need to do some kind of pattern matching on your files\n",
    "    myfiles=[]\n",
    "    for l in br.links(): #you can also iterate through br.forms() to print forms on the page!\n",
    "        for t in filetypes:\n",
    "            if t in str(l): #check if this link has the file extension we want (you may choose to use reg expressions or something)\n",
    "                myfiles.append(l.url)\n",
    "    # print(myfiles)"
   ]
  },
  {
   "cell_type": "code",
   "execution_count": null,
   "metadata": {},
   "outputs": [],
   "source": [
    "outF = open(os.path.join('/root/data/hackathon/building_massa_dataset/images/test/', \"download_images.txt\"), \"w\")\n",
    "for line in myfiles:\n",
    "    # write line to output file\n",
    "    outF.write(line)\n",
    "    outF.write(\"\\n\")\n",
    "outF.close()"
   ]
  },
  {
   "cell_type": "markdown",
   "metadata": {},
   "source": [
    "# download labels"
   ]
  },
  {
   "cell_type": "code",
   "execution_count": null,
   "metadata": {},
   "outputs": [],
   "source": [
    "train = 'https://www.cs.toronto.edu/~vmnih/data/mass_buildings/train/map/index.html'\n",
    "val = 'https://www.cs.toronto.edu/~vmnih/data/mass_buildings/valid/map/index.html'\n",
    "test = 'https://www.cs.toronto.edu/~vmnih/data/mass_buildings/test/map/index.html'"
   ]
  },
  {
   "cell_type": "code",
   "execution_count": null,
   "metadata": {},
   "outputs": [],
   "source": [
    "urls = [test]"
   ]
  },
  {
   "cell_type": "code",
   "execution_count": null,
   "metadata": {},
   "outputs": [],
   "source": [
    "for url in urls:\n",
    "    #Make a Browser (think of this as chrome or firefox etc)\n",
    "    br = mechanize.Browser()\n",
    "\n",
    "    # Open your site\n",
    "    br.open(url)\n",
    "\n",
    "    f=open(\"source.html\",\"w\")\n",
    "    f.write(br.response().read()) #can be helpful for debugging maybe\n",
    "\n",
    "    filetypes=[\".tif\"] #you will need to do some kind of pattern matching on your files\n",
    "    myfiles=[]\n",
    "    for l in br.links(): #you can also iterate through br.forms() to print forms on the page!\n",
    "        for t in filetypes:\n",
    "            if t in str(l): #check if this link has the file extension we want (you may choose to use reg expressions or something)\n",
    "                myfiles.append(l.url)\n",
    "    # print(myfiles)"
   ]
  },
  {
   "cell_type": "code",
   "execution_count": null,
   "metadata": {},
   "outputs": [],
   "source": [
    "outF = open(os.path.join('/root/data/hackathon/building_massa_dataset/labels/test/', \"download_images.txt\"), \"w\")\n",
    "for line in myfiles:\n",
    "    # write line to output file\n",
    "    outF.write(line)\n",
    "    outF.write(\"\\n\")\n",
    "outF.close()"
   ]
  },
  {
   "cell_type": "code",
   "execution_count": null,
   "metadata": {},
   "outputs": [],
   "source": []
  }
 ],
 "metadata": {
  "kernelspec": {
   "display_name": "Python 2",
   "language": "python",
   "name": "python2"
  },
  "language_info": {
   "codemirror_mode": {
    "name": "ipython",
    "version": 2
   },
   "file_extension": ".py",
   "mimetype": "text/x-python",
   "name": "python",
   "nbconvert_exporter": "python",
   "pygments_lexer": "ipython2",
   "version": "2.7.12"
  }
 },
 "nbformat": 4,
 "nbformat_minor": 2
}
