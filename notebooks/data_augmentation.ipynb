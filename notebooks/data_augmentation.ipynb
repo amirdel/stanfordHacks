{
 "cells": [
  {
   "cell_type": "code",
   "execution_count": null,
   "metadata": {},
   "outputs": [],
   "source": [
    "import imgaug as ia\n",
    "from imgaug import augmenters as iaa\n",
    "import numpy as np\n",
    "from PIL import Image\n",
    "import matplotlib.pyplot as plt"
   ]
  },
  {
   "cell_type": "code",
   "execution_count": null,
   "metadata": {},
   "outputs": [],
   "source": [
    "seq = iaa.Sequential([\n",
    "    # Small gaussian blur with random sigma between 0 and 0.5.\n",
    "    # But we only blur about 50% of all images.\n",
    "    iaa.Sometimes(1,\n",
    "        iaa.GaussianBlur(sigma=(0, 2.0))\n",
    "    ),\n",
    "    iaa.Sharpen(alpha=(0, 1.0), lightness=(0.75, 1.5)),\n",
    "    iaa.ContrastNormalization((0.75, 1.2)),\n",
    "    iaa.ContrastNormalization((0.5, 1.0))\n",
    "], random_order=True) # apply augmenters in random order"
   ]
  },
  {
   "cell_type": "code",
   "execution_count": null,
   "metadata": {},
   "outputs": [],
   "source": [
    "img = np.array(Image.open('/root/data/hackathon/building_massa_dataset/images/test/22828930_15.tiff'))"
   ]
  },
  {
   "cell_type": "code",
   "execution_count": null,
   "metadata": {
    "scrolled": false
   },
   "outputs": [],
   "source": [
    "# plt.figure(figsize=(15, 15))\n",
    "f, ax = plt.subplots(10, 1, figsize=(20, 100))\n",
    "for i in range(10):\n",
    "    ax[i].imshow(seq.augment_image(img))\n",
    "plt.show()"
   ]
  },
  {
   "cell_type": "code",
   "execution_count": null,
   "metadata": {},
   "outputs": [],
   "source": [
    "img = '/root/thomas/github/stanfordHacks/example_images/aleppo_2.JPG'"
   ]
  },
  {
   "cell_type": "code",
   "execution_count": null,
   "metadata": {},
   "outputs": [],
   "source": [
    "Image.open(img)"
   ]
  },
  {
   "cell_type": "markdown",
   "metadata": {},
   "source": [
    "# test the generator"
   ]
  },
  {
   "cell_type": "code",
   "execution_count": 1,
   "metadata": {},
   "outputs": [],
   "source": [
    "import os\n",
    "from generator import myGenerator\n",
    "from generator import flip_axis\n",
    "import matplotlib.pyplot as plt\n",
    "import numpy as np\n",
    "from PIL import Image\n",
    "import imgaug as ia\n",
    "from imgaug import augmenters as iaa"
   ]
  },
  {
   "cell_type": "code",
   "execution_count": 2,
   "metadata": {},
   "outputs": [],
   "source": [
    "# def myGenerator(file_paths, steps_per_epoch, BATCH_SIZE, INPUT_SHAPE):\n",
    "#     i = 0\n",
    "#     seq = iaa.Sequential([iaa.Sometimes(0.7, iaa.GaussianBlur(sigma=(0, 2.0))),\n",
    "#                       iaa.Sharpen(alpha=(0, 0.1), lightness=(0.7, 1.3)),\n",
    "#                       iaa.ContrastNormalization((0.5, 1.2))],\n",
    "#                      random_order=True)\n",
    "#     while True:\n",
    "#         x_batch = np.empty((BATCH_SIZE, INPUT_SHAPE[0], INPUT_SHAPE[1], INPUT_SHAPE[2]))\n",
    "#         y_batch = np.empty((BATCH_SIZE, INPUT_SHAPE[0], INPUT_SHAPE[1], 1))\n",
    "#         for (ind, j) in enumerate(range(i*BATCH_SIZE, (i+1)*BATCH_SIZE)):\n",
    "#             # pick a random image\n",
    "#             f = np.random.choice(file_paths)\n",
    "#             print(f)\n",
    "#             random_x = np.random.randint(0, 1500-img_size)\n",
    "#             random_y = np.random.randint(0, 1500-img_size)\n",
    "#             xb = np.array(Image.open(f))[random_x:random_x+img_size, random_y:random_y+img_size, :]\n",
    "#             ftruth = f.replace('images', 'labels')\n",
    "#             ftruth = ftruth[:-1]\n",
    "#             yb = np.expand_dims(np.array(Image.open(ftruth))[random_x:random_x+img_size, random_y:random_y+img_size, 0], axis=2)\n",
    "#             yb[yb==255]=1\n",
    "#             if np.random.random() < 0.5:\n",
    "#                 xb = flip_axis(xb, 1)\n",
    "#                 yb = flip_axis(yb, 1)\n",
    "#             if np.random.random() < 0.5:\n",
    "#                 xb = flip_axis(xb, 0)\n",
    "#                 yb = flip_axis(yb, 0)\n",
    "#             if np.random.random() < 0.5:\n",
    "#                 xb = xb.swapaxes(1, 0)\n",
    "#                 yb = yb.swapaxes(1, 0)\n",
    "#             x_batch[ind,...] = xb\n",
    "#             y_batch[ind,...] = yb\n",
    "#         # bunch of augmentation\n",
    "\n",
    "#         x_batch = seq.augment_images(x_batch)\n",
    "#         i += 1\n",
    "#         if i >= steps_per_epoch:\n",
    "#             i = 0\n",
    "#         yield x_batch, y_batch"
   ]
  },
  {
   "cell_type": "code",
   "execution_count": null,
   "metadata": {},
   "outputs": [],
   "source": [
    "img_size = 256"
   ]
  },
  {
   "cell_type": "code",
   "execution_count": null,
   "metadata": {},
   "outputs": [],
   "source": [
    "train = [os.path.join('/root/data/hackathon/building_massa_dataset/images/train/', f ) for f in os.listdir('/root/data/hackathon/building_massa_dataset/images/train/') if f.endswith('.tiff')]"
   ]
  },
  {
   "cell_type": "code",
   "execution_count": null,
   "metadata": {},
   "outputs": [],
   "source": [
    "train_generator = myGenerator(train, 10, 1, (256, 256, 3))"
   ]
  },
  {
   "cell_type": "code",
   "execution_count": null,
   "metadata": {},
   "outputs": [],
   "source": [
    "x, y = train_generator.next()\n",
    "f, ax = plt.subplots(1, 2, figsize= (15, 10))\n",
    "ax[0].imshow(np.array(x[0,...], dtype=np.uint8))\n",
    "ax[1].imshow(y[0,...,0])\n",
    "plt.show()"
   ]
  },
  {
   "cell_type": "code",
   "execution_count": null,
   "metadata": {},
   "outputs": [],
   "source": [
    "# bad \n",
    "23279095_15.tiff\n",
    "23279095_15.tiff"
   ]
  },
  {
   "cell_type": "code",
   "execution_count": null,
   "metadata": {},
   "outputs": [],
   "source": []
  }
 ],
 "metadata": {
  "kernelspec": {
   "display_name": "Python 2",
   "language": "python",
   "name": "python2"
  },
  "language_info": {
   "codemirror_mode": {
    "name": "ipython",
    "version": 2
   },
   "file_extension": ".py",
   "mimetype": "text/x-python",
   "name": "python",
   "nbconvert_exporter": "python",
   "pygments_lexer": "ipython2",
   "version": "2.7.12"
  }
 },
 "nbformat": 4,
 "nbformat_minor": 2
}
